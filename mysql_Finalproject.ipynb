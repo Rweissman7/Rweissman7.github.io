{
  "cells": [
    {
      "cell_type": "markdown",
      "metadata": {
        "id": "view-in-github",
        "colab_type": "text"
      },
      "source": [
        "<a href=\"https://colab.research.google.com/github/Rweissman7/Rweissman7.github.io/blob/main/mysql_Finalproject.ipynb\" target=\"_parent\"><img src=\"https://colab.research.google.com/assets/colab-badge.svg\" alt=\"Open In Colab\"/></a>"
      ]
    },
    {
      "cell_type": "markdown",
      "source": [
        "Ruchel Weissman  \n",
        "**SQL Queries**  \n",
        "**Northwinds Database**"
      ],
      "metadata": {
        "id": "XSH9uG8TzMen"
      },
      "id": "XSH9uG8TzMen"
    },
    {
      "cell_type": "markdown",
      "source": [
        "**Introduction**  \n",
        "The Northwinds database is a widely used sample database designed by Microsoft for\n",
        "educational and testing purposes. It simulates a company's operations and comprises\n",
        "multiple tables, including products, customers, suppliers, employees, orders, and\n",
        "categories. The data within these tables is fictional but representative of real-world\n",
        "scenarios, making it an ideal resource for learning and practicing relational database\n",
        "concepts. With its well-structured schema and relationships, the Northwinds database\n",
        "serves as an excellent tool for understanding data organization, SQL queries, data\n",
        "manipulation, and database management in various platforms such as Microsoft Access\n",
        "and other database management systems. I used python with mysql connector to pull and\n",
        "aggregate queries from the database."
      ],
      "metadata": {
        "id": "lsl2Y-XXz8Xu"
      },
      "id": "lsl2Y-XXz8Xu"
    },
    {
      "cell_type": "code",
      "execution_count": null,
      "id": "e8afd39f",
      "metadata": {
        "id": "e8afd39f"
      },
      "outputs": [],
      "source": [
        "\n",
        "import mysql.connector"
      ]
    },
    {
      "cell_type": "code",
      "execution_count": null,
      "id": "185dc7cb",
      "metadata": {
        "id": "185dc7cb"
      },
      "outputs": [],
      "source": [
        "#connect to database\n",
        "try:\n",
        "    db = mysql.connector.connect(\n",
        "    host=\"localhost\",\n",
        "    user=\"root\",\n",
        "    passwd=\"Esty5994453\",\n",
        "    database=\"northwind\"\n",
        "    )\n",
        "except mysql.connector.Error as error:\n",
        "    print(\"Error connecting to the database:\", error)"
      ]
    },
    {
      "cell_type": "code",
      "execution_count": null,
      "id": "ee4f1fae",
      "metadata": {
        "id": "ee4f1fae"
      },
      "outputs": [],
      "source": [
        "#set cursor use buffered not to get \"Error executing the query: Unread result found\"\n",
        "mycursor = db.cursor(buffered=True)"
      ]
    },
    {
      "cell_type": "code",
      "execution_count": null,
      "id": "4e606592",
      "metadata": {
        "id": "4e606592",
        "outputId": "08adab36-89af-4189-d2e9-8bc24216778c"
      },
      "outputs": [
        {
          "name": "stdout",
          "output_type": "stream",
          "text": [
            "Error executing the query: 1007 (HY000): Can't create database 'northwind'; database exists\n"
          ]
        }
      ],
      "source": [
        "#create database testdb\n",
        "try:\n",
        "    mycursor.execute(\"CREATE DATABASE northwind\")\n",
        "except mysql.connector.Error as error:\n",
        "    print(\"Error executing the query:\", error)"
      ]
    },
    {
      "cell_type": "markdown",
      "source": [
        "**Data Profiling**  \n",
        "Using SQL queries, I performed data profiling on the dataset, analyzing customer spending\n",
        "patterns in the \"Orders\" and \"OrderDetails\" tables. By calculating the average order value\n",
        "for each customer, I gained insights into their behavior. This analysis enabled me to identify\n",
        "high-value customers who consistently placed large orders. These findings can inform\n",
        "tailored marketing strategies and drive business growth."
      ],
      "metadata": {
        "id": "ycTBqzG80T7U"
      },
      "id": "ycTBqzG80T7U"
    },
    {
      "cell_type": "code",
      "execution_count": null,
      "id": "de6b990d",
      "metadata": {
        "id": "de6b990d",
        "outputId": "e38fe8b5-a1f0-428b-8d1d-f5b35dcc1bbf"
      },
      "outputs": [
        {
          "name": "stdout",
          "output_type": "stream",
          "text": [
            "                         ShipName AvgOrderValue\n",
            "0      Centro comercial Moctezuma         50.40\n",
            "1   Laughing Bacchus Wine Cellars         65.31\n",
            "2            Galera del gastronmo        104.59\n",
            "3                Romero y tomillo        104.81\n",
            "4                     North/South        108.17\n",
            "..                            ...           ...\n",
            "85                  Hanari Carnes       1065.66\n",
            "86                   Ernst Handel       1110.16\n",
            "87               Piccolo und mehr       1141.74\n",
            "88                  Simons bistro       1209.23\n",
            "89                     QUICK-Stop       1366.09\n",
            "\n",
            "[90 rows x 2 columns]\n"
          ]
        }
      ],
      "source": [
        "#1 Customer spending patterns: Average order value for each customer\n",
        "import pandas as pd\n",
        "\n",
        "try:\n",
        "    mycursor.execute('''SELECT ShipName, ROUND(AVG((UnitPrice*Quantity)-Discount),2) AS AvgOrderValue\n",
        "    FROM orders\n",
        "    NATURAL JOIN orderdetails\n",
        "    GROUP BY ShipName\n",
        "    ORDER BY AvgOrderValue''')\n",
        "\n",
        "    title = [i[0] for i in mycursor.description]\n",
        "    #print(title)\n",
        "    data=[]\n",
        "    for x in mycursor:\n",
        "        data.append(x)\n",
        "    df = pd.DataFrame(data, columns=[title])\n",
        "    print(df)\n",
        "except mysql.connector.Error as error:\n",
        "    print(\"Error executing the query:\", error)"
      ]
    },
    {
      "cell_type": "markdown",
      "source": [
        "**Creating Views**  \n",
        "Employing SQL commands, I crafted a view to offer distinct perspectives on the data. This\n",
        "view showcases the total revenue generated by each customer. By joining the \"Customers,\"\n",
        "\"Orders,\" and \"OrderDetails\" tables, I calculated the total revenue generated by individual\n",
        "customers. The view includes informative columns such as customer name, customer ID,\n",
        "and their corresponding total revenue. This view not only provides valuable insights into\n",
        "each customer's contribution to overall revenue, but it also streamlines the process of\n",
        "pulling up this exact query at any time, making data analysis and reporting more efficient\n",
        "and accessible."
      ],
      "metadata": {
        "id": "K-SBv4k_0fvv"
      },
      "id": "K-SBv4k_0fvv"
    },
    {
      "cell_type": "code",
      "execution_count": null,
      "id": "7c9a3800",
      "metadata": {
        "id": "7c9a3800",
        "outputId": "02d05d6c-f9b8-4c15-8c91-0c314de916fc"
      },
      "outputs": [
        {
          "name": "stdout",
          "output_type": "stream",
          "text": [
            "Error executing the query: 1050 (42S01): Table 'TotalRevenue' already exists\n"
          ]
        }
      ],
      "source": [
        "#2 view that shows total revenue generated by each customer\n",
        "try:\n",
        "    mycursor.execute('''CREATE VIEW TotalRevenue AS\n",
        "    SELECT customers.CompanyName, customers.CustomerID, ROUND(SUM((UnitPrice*Quantity)-Discount),2) AS TotalRevenue\n",
        "    FROM orders\n",
        "    JOIN orderdetails ON orders.OrderID = orderdetails.OrderID\n",
        "    JOIN customers ON orders.CustomerId = customers.CustomerID\n",
        "    GROUP BY customers.CompanyName, customers.CustomerID''')\n",
        "\n",
        "except mysql.connector.Error as error:\n",
        "    print(\"Error executing the query:\", error)"
      ]
    },
    {
      "cell_type": "code",
      "execution_count": null,
      "id": "a3346b0b",
      "metadata": {
        "id": "a3346b0b",
        "outputId": "5663763e-6af6-4f13-8c81-a27ea3f59038"
      },
      "outputs": [
        {
          "name": "stdout",
          "output_type": "stream",
          "text": [
            "                           CompanyName CustomerID TotalRevenue\n",
            "0                  Alfreds Futterkiste      ALFKI      4596.20\n",
            "1   Ana Trujillo Emparedados y helados      ANATR      1402.95\n",
            "2               Antonio Moreno Taquera      ANTON      7515.35\n",
            "3                      Around the Horn      AROUT     13806.50\n",
            "4                        B's Beverages      BSBEV      6089.90\n",
            "..                                 ...        ...          ...\n",
            "84                      Wartian Herkku      WARTH     16617.10\n",
            "85              Wellington Importadora      WELLI      6480.70\n",
            "86                White Clover Markets      WHITC     29073.45\n",
            "87                         Wilman Kala      WILMK      3161.35\n",
            "88                      Wolski  Zajazd      WOLZA      3531.95\n",
            "\n",
            "[89 rows x 3 columns]\n"
          ]
        }
      ],
      "source": [
        "#view total revenue view\n",
        "try:\n",
        "    mycursor.execute(\"SELECT*FROM TotalRevenue\")\n",
        "\n",
        "    title = [i[0] for i in mycursor.description]\n",
        "    data=[]\n",
        "    for x in mycursor:\n",
        "        data.append(x)\n",
        "    df = pd.DataFrame(data, columns=[title])\n",
        "    print(df)\n",
        "\n",
        "except mysql.connector.Error as error:\n",
        "    print(\"Error executing the query:\", error)"
      ]
    },
    {
      "cell_type": "markdown",
      "source": [
        "**Performing Aggregations**  \n",
        "I calculated summary statistics for different subsets of the data, focusing on determining\n",
        "the total revenue generated by the company. By extracting and analyzing data from\n",
        "relevant tables, I successfully obtained the total revenue figure, which serves as a critical\n",
        "measure of the company's overall financial performance."
      ],
      "metadata": {
        "id": "ATAuR4000ldl"
      },
      "id": "ATAuR4000ldl"
    },
    {
      "cell_type": "markdown",
      "id": "163d5403",
      "metadata": {
        "id": "163d5403"
      },
      "source": [
        "Calculate the total revenue generated by the company"
      ]
    },
    {
      "cell_type": "code",
      "execution_count": null,
      "id": "4c6735e8",
      "metadata": {
        "id": "4c6735e8",
        "outputId": "ab62f38c-bc41-4418-82f6-015da45b81fd"
      },
      "outputs": [
        {
          "name": "stdout",
          "output_type": "stream",
          "text": [
            "Total revenue generated by the company is:\n",
            "1354458.59\n"
          ]
        }
      ],
      "source": [
        "#3 Calculate the total revenue generated by the company\n",
        "try:\n",
        "    mycursor.execute(\"SELECT ROUND(SUM((UnitPrice*Quantity)-Discount),2) AS TotalCompanyRevenue FROM orderdetails\")\n",
        "\n",
        "    print(\"Total revenue generated by the company is:\")\n",
        "\n",
        "    for x in mycursor:\n",
        "        print(x[0])\n",
        "\n",
        "except mysql.connector.Error as error:\n",
        "    print(\"Error executing the query:\", error)"
      ]
    },
    {
      "cell_type": "markdown",
      "source": [
        "**Performing Filtering**  \n",
        "I filtered the data to concentrate on specific subsets, with a particular focus on finding\n",
        "orders placed by a specific customer, identified by their contact name. This targeted\n",
        "approach allowed for a detailed examination of that customer's transaction history,\n",
        "providing valuable insights into their preferences, purchasing habits, and overall\n",
        "engagement with the company."
      ],
      "metadata": {
        "id": "C60jojPf06r0"
      },
      "id": "C60jojPf06r0"
    },
    {
      "cell_type": "code",
      "execution_count": null,
      "id": "12905217",
      "metadata": {
        "id": "12905217",
        "outputId": "aebdf6fb-ea38-46e8-8356-3e449c4ac6e9"
      },
      "outputs": [
        {
          "name": "stdout",
          "output_type": "stream",
          "text": [
            "  CustomerID OrderID EmployeeID  OrderDate RequiredDate ShippedDate ShipVia  \\\n",
            "0      ALFKI   10643          6 1997-08-25   1997-09-22  1997-09-02       1   \n",
            "1      ALFKI   10692          4 1997-10-03   1997-10-31  1997-10-13       2   \n",
            "2      ALFKI   10702          4 1997-10-13   1997-11-24  1997-10-21       1   \n",
            "3      ALFKI   10835          1 1998-01-15   1998-02-12  1998-01-21       3   \n",
            "4      ALFKI   10952          1 1998-03-16   1998-04-27  1998-03-24       1   \n",
            "5      ALFKI   11011          3 1998-04-09   1998-05-07  1998-04-13       1   \n",
            "\n",
            "   Freight              ShipName    ShipAddress  ...          CompanyName  \\\n",
            "0  29.4600   Alfreds Futterkiste  Obere Str. 57  ...  Alfreds Futterkiste   \n",
            "1  61.0200  Alfred-s Futterkiste  Obere Str. 57  ...  Alfreds Futterkiste   \n",
            "2  23.9400  Alfred-s Futterkiste  Obere Str. 57  ...  Alfreds Futterkiste   \n",
            "3  69.5300  Alfred-s Futterkiste  Obere Str. 57  ...  Alfreds Futterkiste   \n",
            "4  40.4200  Alfred-s Futterkiste  Obere Str. 57  ...  Alfreds Futterkiste   \n",
            "5   1.2100  Alfred-s Futterkiste  Obere Str. 57  ...  Alfreds Futterkiste   \n",
            "\n",
            "    ContactName          ContactTitle        Address    City Region  \\\n",
            "0  Maria Anders  Sales Representative  Obere Str. 57  Berlin   None   \n",
            "1  Maria Anders  Sales Representative  Obere Str. 57  Berlin   None   \n",
            "2  Maria Anders  Sales Representative  Obere Str. 57  Berlin   None   \n",
            "3  Maria Anders  Sales Representative  Obere Str. 57  Berlin   None   \n",
            "4  Maria Anders  Sales Representative  Obere Str. 57  Berlin   None   \n",
            "5  Maria Anders  Sales Representative  Obere Str. 57  Berlin   None   \n",
            "\n",
            "  PostalCode  Country        Phone          Fax  \n",
            "0      12209  Germany  030-0074321  030-0076545  \n",
            "1      12209  Germany  030-0074321  030-0076545  \n",
            "2      12209  Germany  030-0074321  030-0076545  \n",
            "3      12209  Germany  030-0074321  030-0076545  \n",
            "4      12209  Germany  030-0074321  030-0076545  \n",
            "5      12209  Germany  030-0074321  030-0076545  \n",
            "\n",
            "[6 rows x 24 columns]\n"
          ]
        }
      ],
      "source": [
        "#3 Find orders placed by a specific customer identified by their contact name\n",
        "try:\n",
        "    mycursor.execute(\"SELECT * FROM orders NATURAL JOIN customers WHERE ContactName = 'Maria Anders'\")\n",
        "\n",
        "    title = [i[0] for i in mycursor.description]\n",
        "    data=[]\n",
        "    for x in mycursor:\n",
        "        data.append(x)\n",
        "    df = pd.DataFrame(data, columns=[title])\n",
        "    print(df)\n",
        "\n",
        "except mysql.connector.Error as error:\n",
        "    print(\"Error executing the query:\", error)"
      ]
    },
    {
      "cell_type": "markdown",
      "source": [
        "**Joining Tables**  \n",
        "I joined tables containing information about customers, orders, products, and employees\n",
        "to gain insights into the relationships between different entities in the dataset. I identified\n",
        "which products are currently on backorder by joining the Products and Order Details\n",
        "tables. This query allowed me to pinpoint products that have a quantity ordered exceeding\n",
        "the quantity in stock. These insights into backordered products can be crucial for inventory\n",
        "management and ensuring timely customer fulfillment."
      ],
      "metadata": {
        "id": "8jvknk4v0_hk"
      },
      "id": "8jvknk4v0_hk"
    },
    {
      "cell_type": "code",
      "execution_count": null,
      "id": "03835df5",
      "metadata": {
        "id": "03835df5",
        "outputId": "0c3bc074-908c-49d7-cc3c-f892b167555b"
      },
      "outputs": [
        {
          "name": "stdout",
          "output_type": "stream",
          "text": [
            "   ProductID                      ProductName TotalOrdered UnitsInStock\n",
            "0         28                 Rssle Sauerkraut           98           26\n",
            "1         49                         Maxilaku           62           10\n",
            "2         35                   Steeleye Stout           24           20\n",
            "3         21              Sir Rodney's Scones           23            3\n",
            "4         51            Manjimup Dried Apples           24           20\n",
            "5         24                 Guaran Fantstica           30           20\n",
            "6         60                Camembert Pierrot           73           19\n",
            "7         13                            Konbu           44           24\n",
            "8         17                     Alice Mutton           12            0\n",
            "9         53                    Perth Pasties           10            0\n",
            "10        43                      Ipoh Coffee           36           17\n",
            "11         1                             Chai           40           39\n",
            "12         2                            Chang           62           17\n",
            "13        16                          Pavlova           46           29\n",
            "14        31                Gorgonzola Telino           20            0\n",
            "15         7  Uncle Bob's Organic Dried Pears           16           15\n",
            "16        64         Wimmers gute Semmelkndel          132           22\n"
          ]
        }
      ],
      "source": [
        "#Identify which products are on backorder\n",
        "#joins the Products and Order Details tables to identify which products are currently on backorder (i.e., have a quantity ordered that exceeds the quantity in stock).\n",
        "#need to group all orders for same product and add total first then compare to units in stock\n",
        "#only ones that haven't shipped yet, combine with order table\n",
        "try:\n",
        "    mycursor.execute('''SELECT products.ProductID, ProductName, SUM(Quantity) AS TotalOrdered, UnitsInStock\n",
        "    FROM products\n",
        "    JOIN orderdetails ON products.ProductID = orderdetails.ProductID\n",
        "    JOIN orders ON orderdetails.OrderID =  orders.OrderID\n",
        "    WHERE ShippedDate IS NULL\n",
        "    GROUP BY products.ProductID\n",
        "    HAVING TotalOrdered > UnitsInStock''')\n",
        "\n",
        "    title = [i[0] for i in mycursor.description]\n",
        "    data=[]\n",
        "    for x in mycursor:\n",
        "        data.append(x)\n",
        "    df = pd.DataFrame(data, columns=[title])\n",
        "    print(df)\n",
        "\n",
        "\n",
        "except mysql.connector.Error as error:\n",
        "    print(\"Error executing the query:\", error)"
      ]
    },
    {
      "cell_type": "markdown",
      "source": [
        "**Using Subqueries**  \n",
        "I used SQL subqueries to gain insights into specific subsets of the data, particularly focusing\n",
        "on calculating the average order amount for customers who have placed more than five\n",
        "orders. This analysis allowed me to identify the spending behavior of repeat customers and\n",
        "understand their average order value. Such insights can be valuable for tailoring marketing\n",
        "strategies and enhancing customer retention efforts."
      ],
      "metadata": {
        "id": "vCxKIYpg1F4L"
      },
      "id": "vCxKIYpg1F4L"
    },
    {
      "cell_type": "code",
      "execution_count": null,
      "id": "d281b239",
      "metadata": {
        "id": "d281b239",
        "outputId": "ebfa040a-5ce2-49b7-c587-e49c5860bf3c"
      },
      "outputs": [
        {
          "name": "stdout",
          "output_type": "stream",
          "text": [
            "                   ShipName CustomerID AvgOrderValue\n",
            "0         Toms Spezialitten      TOMSP        353.86\n",
            "1             Hanari Carnes      HANAR       1065.66\n",
            "2      Victuailles en stock      VICTE        397.48\n",
            "3            Suprmes dlices      SUPRD        633.45\n",
            "4         Chop-suey Chinese      CHOPS        585.74\n",
            "..                      ...        ...           ...\n",
            "59  Great Lakes Food Market      GREAL        895.96\n",
            "60             Maison Dewey      MAISD        613.56\n",
            "61              Wilman Kala      WILMK        185.96\n",
            "62      Alfreds Futterkiste      ALFKI        362.00\n",
            "63     Alfred-s Futterkiste      ALFKI        390.02\n",
            "\n",
            "[64 rows x 3 columns]\n"
          ]
        }
      ],
      "source": [
        "#Calculate the average order amount for customers who have placed more than one order:\n",
        "#GROUP BY ORDER ID AND WHERE COUNT IS MORE THAN 5\n",
        "\n",
        "\n",
        "try:\n",
        "    mycursor.execute('''SELECT ShipName, CustomerID, ROUND(AVG((UnitPrice*Quantity)-Discount),2) AS AvgOrderValue\n",
        "    FROM orders\n",
        "    JOIN orderdetails ON orders.OrderID = orderdetails.OrderID\n",
        "    WHERE CustomerID IN (SELECT CustomerID\n",
        "        FROM orders\n",
        "        GROUP BY CustomerID\n",
        "        HAVING COUNT(CustomerID) > 5)\n",
        "    GROUP BY CustomerID, ShipName''')\n",
        "\n",
        "    title = [i[0] for i in mycursor.description]\n",
        "    data=[]\n",
        "    for x in mycursor:\n",
        "        data.append(x)\n",
        "    df = pd.DataFrame(data, columns=[title])\n",
        "    print(df)\n",
        "\n",
        "\n",
        "except mysql.connector.Error as error:\n",
        "    print(\"Error executing the query:\", error)"
      ]
    }
  ],
  "metadata": {
    "kernelspec": {
      "display_name": "Python 3 (ipykernel)",
      "language": "python",
      "name": "python3"
    },
    "language_info": {
      "codemirror_mode": {
        "name": "ipython",
        "version": 3
      },
      "file_extension": ".py",
      "mimetype": "text/x-python",
      "name": "python",
      "nbconvert_exporter": "python",
      "pygments_lexer": "ipython3",
      "version": "3.9.13"
    },
    "colab": {
      "provenance": [],
      "include_colab_link": true
    }
  },
  "nbformat": 4,
  "nbformat_minor": 5
}